{
 "cells": [
  {
   "cell_type": "markdown",
   "id": "7ce1c58f-d275-4b39-82cb-9ec06349b322",
   "metadata": {
    "tags": []
   },
   "source": [
    "# Utility functions"
   ]
  },
  {
   "cell_type": "code",
   "execution_count": 2,
   "id": "370eb3e4-97f2-401c-83ba-b849b83761c6",
   "metadata": {
    "tags": []
   },
   "outputs": [
    {
     "name": "stderr",
     "output_type": "stream",
     "text": [
      "2024-05-08 10:57:46.118030: E external/local_xla/xla/stream_executor/cuda/cuda_dnn.cc:9261] Unable to register cuDNN factory: Attempting to register factory for plugin cuDNN when one has already been registered\n",
      "2024-05-08 10:57:46.118368: E external/local_xla/xla/stream_executor/cuda/cuda_fft.cc:607] Unable to register cuFFT factory: Attempting to register factory for plugin cuFFT when one has already been registered\n",
      "2024-05-08 10:57:46.124925: E external/local_xla/xla/stream_executor/cuda/cuda_blas.cc:1515] Unable to register cuBLAS factory: Attempting to register factory for plugin cuBLAS when one has already been registered\n",
      "2024-05-08 10:57:46.149868: I tensorflow/core/platform/cpu_feature_guard.cc:182] This TensorFlow binary is optimized to use available CPU instructions in performance-critical operations.\n",
      "To enable the following instructions: AVX2 FMA, in other operations, rebuild TensorFlow with the appropriate compiler flags.\n",
      "2024-05-08 10:57:49.894135: W tensorflow/compiler/tf2tensorrt/utils/py_utils.cc:38] TF-TRT Warning: Could not find TensorRT\n"
     ]
    },
    {
     "name": "stdout",
     "output_type": "stream",
     "text": [
      "numpy version: 1.26.4\n",
      "CUDA version: 11.8 - Torch versteion: 2.0.0+cu118 - device count: 2\n"
     ]
    },
    {
     "data": {
      "text/plain": [
       "<torch._C.Generator at 0x79d0b80649f0>"
      ]
     },
     "execution_count": 2,
     "metadata": {},
     "output_type": "execute_result"
    }
   ],
   "source": [
    "import sys\n",
    "sys.path.insert(0,'../') \n",
    "# from __future__ import print_function\n",
    "import argparse\n",
    "import torch\n",
    "import torch.nn as nn\n",
    "import torch.nn.functional as F\n",
    "import torch.optim as optim\n",
    "from torch.optim.lr_scheduler import StepLR\n",
    "from torch.utils.data import random_split\n",
    "from torch.utils.data import Subset, DataLoader, random_split\n",
    "\n",
    "import torch.optim as optim\n",
    "from torch.optim.lr_scheduler import StepLR\n",
    "import matplotlib.pyplot as plt\n",
    "\n",
    "import numpy as np\n",
    "from sklearn.metrics import confusion_matrix, classification_report\n",
    "import pandas as pd \n",
    "\n",
    "import argparse\n",
    "\n",
    "import argparse\n",
    "import datetime\n",
    "import json\n",
    "import numpy as np\n",
    "import os\n",
    "import time\n",
    "from pathlib import Path\n",
    "\n",
    "import torch\n",
    "import torch.backends.cudnn as cudnn\n",
    "from torch.utils.tensorboard import SummaryWriter\n",
    "\n",
    "\n",
    "# import models_vit\n",
    "import sys\n",
    "import os\n",
    "import torch\n",
    "import numpy as np\n",
    "\n",
    "import matplotlib.pyplot as plt\n",
    "from PIL import Image\n",
    "# import models_mae\n",
    "import torch; print(f'numpy version: {np.__version__}\\nCUDA version: {torch.version.cuda} - Torch versteion: {torch.__version__} - device count: {torch.cuda.device_count()}')\n",
    "\n",
    "from sklearn.metrics import confusion_matrix, classification_report\n",
    "import seaborn as sns\n",
    "from sklearn.preprocessing import LabelBinarizer\n",
    "from sklearn.metrics import roc_curve, auc\n",
    "import matplotlib.pyplot as plt\n",
    "from itertools import cycle\n",
    "import numpy as np\n",
    "from sklearn.metrics import precision_score, recall_score, f1_score\n",
    "import torch.optim as optim\n",
    "import torch.nn as nn\n",
    "import torch\n",
    "\n",
    "import PIL\n",
    "import pandas as pd\n",
    "import torch\n",
    "import numpy as np\n",
    "import pandas as pd\n",
    "from tqdm import tqdm\n",
    "import os\n",
    "import pandas as pd\n",
    "from sklearn.ensemble import RandomForestClassifier\n",
    "from sklearn.metrics import accuracy_score\n",
    "from sklearn.metrics import accuracy_score, precision_score, recall_score, f1_score, fbeta_score\n",
    "from sklearn.metrics import precision_score, recall_score, f1_score, fbeta_score\n",
    "import numpy as np\n",
    "from torchvision import datasets, transforms\n",
    "from timm.data import create_transform\n",
    "# from timm.data.constants import IMAGENET_DEFAULT_MEAN, IMAGENET_DEFAULT_STD\n",
    "\n",
    "IMAGENET_DEFAULT_MEAN = np.array([0.485, 0.456, 0.406])\n",
    "IMAGENET_DEFAULT_STD = np.array([0.229, 0.224, 0.225])\n",
    "\n",
    "def show_image(image, title=''):\n",
    "    # image is [H, W, 3]\n",
    "    assert image.shape[2] == 3\n",
    "    plt.imshow(torch.clip((image * IMAGENET_DEFAULT_STD + IMAGENET_DEFAULT_MEAN) * 255, 0, 255).int())\n",
    "    plt.title(title, fontsize=16)\n",
    "    plt.axis('off')\n",
    "    return\n",
    "\n",
    "\n",
    "def plot_multiclass_roc_curve(all_labels, all_predictions, EXPERIMENT_NAME=\".\"):\n",
    "    # Step 1: Label Binarization\n",
    "    label_binarizer = LabelBinarizer()\n",
    "    y_onehot = label_binarizer.fit_transform(all_labels)\n",
    "    all_predictions_hot = label_binarizer.transform(all_predictions)\n",
    "\n",
    "    # Step 2: Calculate ROC curves\n",
    "    fpr = dict()\n",
    "    tpr = dict()\n",
    "    roc_auc = dict()\n",
    "    unique_classes = range(y_onehot.shape[1])\n",
    "    for i in unique_classes:\n",
    "        fpr[i], tpr[i], _ = roc_curve(y_onehot[:, i], all_predictions_hot[:, i])\n",
    "        roc_auc[i] = auc(fpr[i], tpr[i])\n",
    "\n",
    "    # Step 3: Plot ROC curves\n",
    "    fig, ax = plt.subplots(figsize=(8, 8))\n",
    "\n",
    "    # Micro-average ROC curve\n",
    "    fpr_micro, tpr_micro, _ = roc_curve(y_onehot.ravel(), all_predictions_hot.ravel())\n",
    "    roc_auc_micro = auc(fpr_micro, tpr_micro)\n",
    "    plt.plot(\n",
    "        fpr_micro,\n",
    "        tpr_micro,\n",
    "        label=f\"micro-average ROC curve (AUC = {roc_auc_micro:.2f})\",\n",
    "        color=\"deeppink\",\n",
    "        linestyle=\":\",\n",
    "        linewidth=4,\n",
    "    )\n",
    "\n",
    "    # Macro-average ROC curve\n",
    "    all_fpr = np.unique(np.concatenate([fpr[i] for i in unique_classes]))\n",
    "    mean_tpr = np.zeros_like(all_fpr)\n",
    "    for i in unique_classes:\n",
    "        mean_tpr += np.interp(all_fpr, fpr[i], tpr[i])\n",
    "    mean_tpr /= len(unique_classes)\n",
    "    fpr_macro = all_fpr\n",
    "    tpr_macro = mean_tpr\n",
    "    roc_auc_macro = auc(fpr_macro, tpr_macro)\n",
    "    plt.plot(\n",
    "        fpr_macro,\n",
    "        tpr_macro,\n",
    "        label=f\"macro-average ROC curve (AUC = {roc_auc_macro:.2f})\",\n",
    "        color=\"navy\",\n",
    "        linestyle=\":\",\n",
    "        linewidth=4,\n",
    "    )\n",
    "\n",
    "    # Individual class ROC curves with unique colors\n",
    "    colors = plt.cm.rainbow(np.linspace(0, 1, len(unique_classes)))\n",
    "    for class_id, color in zip(unique_classes, colors):\n",
    "        plt.plot(\n",
    "            fpr[class_id],\n",
    "            tpr[class_id],\n",
    "            color=color,\n",
    "            label=f\"ROC curve for Class {class_id} (AUC = {roc_auc[class_id]:.2f})\",\n",
    "            linewidth=2,\n",
    "        )\n",
    "\n",
    "    plt.plot([0, 1], [0, 1], color='gray', linestyle='--', linewidth=2)  # Add diagonal line for reference\n",
    "    plt.axis(\"equal\")\n",
    "    plt.xlabel(\"False Positive Rate\")\n",
    "    plt.ylabel(\"True Positive Rate\")\n",
    "    plt.title(\"Extension of Receiver Operating Characteristic\\n to One-vs-Rest multiclass\")\n",
    "    plt.legend()\n",
    "    plt.savefig(f'{EXPERIMENT_NAME}/roc_curve.png')\n",
    "    plt.show()\n",
    "\n",
    "\n",
    "def build_dataset(is_train, args):\n",
    "    transform = build_transform(is_train, args)\n",
    "\n",
    "    root = os.path.join(args.data_path, 'train' if is_train else 'val')\n",
    "    dataset = datasets.ImageFolder(root, transform=transform)\n",
    "\n",
    "    print(dataset)\n",
    "\n",
    "    return dataset\n",
    "\n",
    "\n",
    "def build_transform(is_train, args):\n",
    "    mean = IMAGENET_DEFAULT_MEAN\n",
    "    std = IMAGENET_DEFAULT_STD\n",
    "    # train transform\n",
    "    if is_train:\n",
    "        # this should always dispatch to transforms_imagenet_train\n",
    "        transform = create_transform(\n",
    "            input_size=args.input_size,\n",
    "            is_training=True,\n",
    "            color_jitter=args.color_jitter,\n",
    "            auto_augment=args.aa,\n",
    "            interpolation='bicubic',\n",
    "            re_prob=args.reprob,\n",
    "            re_mode=args.remode,\n",
    "            re_count=args.recount,\n",
    "            mean=mean,\n",
    "            std=std,\n",
    "        )\n",
    "        return transform\n",
    "\n",
    "    # eval transform\n",
    "    t = []\n",
    "    if args.input_size <= 224:\n",
    "        crop_pct = 224 / 256\n",
    "    else:\n",
    "        crop_pct = 1.0\n",
    "    size = int(args.input_size / crop_pct)\n",
    "    t.append(\n",
    "        transforms.Resize(size, interpolation=PIL.Image.BICUBIC),  # to maintain same ratio w.r.t. 224 images\n",
    "    )\n",
    "    t.append(transforms.CenterCrop(args.input_size))\n",
    "\n",
    "    t.append(transforms.ToTensor())\n",
    "    t.append(transforms.Normalize(mean, std))\n",
    "    return transforms.Compose(t)\n",
    "\n",
    "# Set the seed for PyTorch\n",
    "torch.manual_seed(42)"
   ]
  },
  {
   "cell_type": "markdown",
   "id": "fba9147a-5358-4647-a3d7-8c1f8a14ba7b",
   "metadata": {},
   "source": [
    "# MLP"
   ]
  },
  {
   "cell_type": "code",
   "execution_count": 84,
   "id": "d84914a1-0792-43f4-a623-4a7d360a91c6",
   "metadata": {
    "tags": []
   },
   "outputs": [
    {
     "name": "stdout",
     "output_type": "stream",
     "text": [
      "torch.Size([3994, 960]) (3994,)\n",
      "torch.Size([705, 960]) (705,)\n",
      "(850, 960) (850,)\n"
     ]
    }
   ],
   "source": [
    "# Read embeddings CSV files\n",
    "train_embeddings = pd.read_csv(f'{train_path}/train_embeddings.csv')\n",
    "val_embeddings = pd.read_csv(f'{val_path}/val_embeddings.csv')\n",
    "\n",
    "\n",
    "# Split the data into training and validation sets (80/20 split)\n",
    "X_train, X_val, y_train, y_val = train_test_split(X_train, y_train, test_size=0.15, random_state=42)\n",
    "\n",
    "\n",
    "X_test = val_embeddings.iloc[:, :-1].values      # Features\n",
    "y_test = val_embeddings.iloc[:, -1].values       # Labels\n",
    "\n",
    "print(X_train.shape, y_train.shape)\n",
    "print(X_val.shape, y_val.shape)\n",
    "print(X_test.shape, y_test.shape)"
   ]
  },
  {
   "cell_type": "code",
   "execution_count": null,
   "id": "6c8dc314-b6e8-4246-a587-e09e0d31d723",
   "metadata": {},
   "outputs": [],
   "source": [
    "\n",
    "print(\"GridSearch over a list of neighbors: {0}\".format(l_k))\n",
    "_ = knn_gscv.fit(x, y)"
   ]
  },
  {
   "cell_type": "code",
   "execution_count": 105,
   "id": "587fc5d3-5d9c-44c6-9fbc-bdce9c01f1e5",
   "metadata": {
    "tags": []
   },
   "outputs": [
    {
     "name": "stdout",
     "output_type": "stream",
     "text": [
      "Fitting 10 folds for each of 20 candidates, totalling 200 fits\n",
      "\n",
      "mlp_grid_search_time: 3e+01f\n"
     ]
    }
   ],
   "source": [
    "from sklearn.model_selection import StratifiedKFold\n",
    "from sklearn.model_selection import GridSearchCV, cross_val_score, StratifiedKFold\n",
    "\n",
    "# we use stratified folds\n",
    "from sklearn.pipeline import Pipeline\n",
    "\n",
    "n_folds = 10\n",
    "skf = StratifiedKFold(n_folds, shuffle=True)\n",
    "\n",
    "mlp_classifier = Pipeline(steps=[('std_sc', StandardScaler()),\n",
    "                                 ('mlpc', MLPClassifier(solver='adam', \n",
    "                                              activation='relu',\n",
    "                                              tol=1.e-4, \n",
    "                                              max_iter=1000,\n",
    "                                              warm_start=False,\n",
    "                                              shuffle=True))])\n",
    "\n",
    "l_hidden_layer_sizes = [(20,), (20, 20)]\n",
    "l_alpha = [10.**k for k in range(-6, 4)]\n",
    "\n",
    "param_grid = {'mlpc__alpha': l_alpha, 'mlpc__hidden_layer_sizes': l_hidden_layer_sizes}\n",
    "\n",
    "mlpc_gscv = GridSearchCV(mlp_classifier, \n",
    "                         param_grid=param_grid, \n",
    "                         cv=skf, \n",
    "                         scoring='accuracy', \n",
    "                         return_train_score=True, \n",
    "                         n_jobs=-1, \n",
    "                         verbose=1)\n",
    "\n",
    "t_0 = time.time() \n",
    "_ = mlpc_gscv.fit(X_train, y_train)\n",
    "t_1 = time.time() \n",
    "print(\"\\nmlp_grid_search_time: {0:.2}f\".format((t_1 - t_0)/60.))\n"
   ]
  },
  {
   "cell_type": "code",
   "execution_count": 112,
   "id": "432fef75-95b3-4f5e-a5bd-9e26c40b83af",
   "metadata": {
    "tags": []
   },
   "outputs": [
    {
     "data": {
      "text/plain": [
       "['mlp_classifier_gscv.joblib']"
      ]
     },
     "execution_count": 112,
     "metadata": {},
     "output_type": "execute_result"
    }
   ],
   "source": [
    "import joblib\n",
    "# saving alpha_search in a pickle    \n",
    "joblib.dump(mlpc_gscv, 'mlp_classifier_gscv.joblib')"
   ]
  },
  {
   "cell_type": "code",
   "execution_count": 113,
   "id": "64955974-2500-47dd-862a-a2cf60cf1379",
   "metadata": {
    "tags": []
   },
   "outputs": [
    {
     "data": {
      "text/html": [
       "<div>\n",
       "<style scoped>\n",
       "    .dataframe tbody tr th:only-of-type {\n",
       "        vertical-align: middle;\n",
       "    }\n",
       "\n",
       "    .dataframe tbody tr th {\n",
       "        vertical-align: top;\n",
       "    }\n",
       "\n",
       "    .dataframe thead th {\n",
       "        text-align: right;\n",
       "    }\n",
       "</style>\n",
       "<table border=\"1\" class=\"dataframe\">\n",
       "  <thead>\n",
       "    <tr style=\"text-align: right;\">\n",
       "      <th></th>\n",
       "      <th>param_mlpc__alpha</th>\n",
       "      <th>param_mlpc__hidden_layer_sizes</th>\n",
       "      <th>mean_test_score</th>\n",
       "    </tr>\n",
       "  </thead>\n",
       "  <tbody>\n",
       "    <tr>\n",
       "      <th>19</th>\n",
       "      <td>1000.0</td>\n",
       "      <td>(20, 20)</td>\n",
       "      <td>0.398598</td>\n",
       "    </tr>\n",
       "    <tr>\n",
       "      <th>18</th>\n",
       "      <td>1000.0</td>\n",
       "      <td>(20,)</td>\n",
       "      <td>0.398598</td>\n",
       "    </tr>\n",
       "    <tr>\n",
       "      <th>17</th>\n",
       "      <td>100.0</td>\n",
       "      <td>(20, 20)</td>\n",
       "      <td>0.398598</td>\n",
       "    </tr>\n",
       "    <tr>\n",
       "      <th>16</th>\n",
       "      <td>100.0</td>\n",
       "      <td>(20,)</td>\n",
       "      <td>0.398598</td>\n",
       "    </tr>\n",
       "    <tr>\n",
       "      <th>14</th>\n",
       "      <td>10.0</td>\n",
       "      <td>(20,)</td>\n",
       "      <td>0.297949</td>\n",
       "    </tr>\n",
       "  </tbody>\n",
       "</table>\n",
       "</div>"
      ],
      "text/plain": [
       "   param_mlpc__alpha param_mlpc__hidden_layer_sizes  mean_test_score\n",
       "19            1000.0                       (20, 20)         0.398598\n",
       "18            1000.0                          (20,)         0.398598\n",
       "17             100.0                       (20, 20)         0.398598\n",
       "16             100.0                          (20,)         0.398598\n",
       "14              10.0                          (20,)         0.297949"
      ]
     },
     "metadata": {},
     "output_type": "display_data"
    }
   ],
   "source": [
    "df_cv_estimator = pd.DataFrame.from_dict(mlpc_gscv.cv_results_)\n",
    "\n",
    "display(df_cv_estimator[[\"param_mlpc__alpha\", \"param_mlpc__hidden_layer_sizes\", \"mean_test_score\"]].sort_values(by=\"mean_test_score\", ascending=False).head())\n"
   ]
  },
  {
   "cell_type": "code",
   "execution_count": 114,
   "id": "ae0f4e03-4bf7-415a-b8f1-d25f9dc0d2aa",
   "metadata": {
    "tags": []
   },
   "outputs": [
    {
     "name": "stdout",
     "output_type": "stream",
     "text": [
      "best alpha: 100.000000\t\n",
      "alpha_min: 0.000001\talpha_max: 1000.000000\n",
      "best_hidden_layer_sizes (20,) \n",
      "acc: 0.399\n"
     ]
    },
    {
     "data": {
      "image/png": "[encoded data removed]",
      "text/plain": [
       "<Figure size 640x480 with 1 Axes>"
      ]
     },
     "metadata": {},
     "output_type": "display_data"
    }
   ],
   "source": [
    "mlpc_gscv = joblib.load('mlp_classifier_gscv.joblib')\n",
    "\n",
    "best_alpha = mlpc_gscv.best_params_['mlpc__alpha'] \n",
    "print(\"best alpha: %.6f\\t\" % best_alpha)\n",
    "print(\"alpha_min: %f\\talpha_max: %f\" % (np.array(l_alpha).min(), np.array(l_alpha).max()))\n",
    "\n",
    "best_hidden_layer_sizes = mlpc_gscv.best_params_['mlpc__hidden_layer_sizes'] \n",
    "print(\"best_hidden_layer_sizes\", best_hidden_layer_sizes, \"\\nacc: %.3f\" % mlpc_gscv.best_score_) \n",
    "\n",
    "idx_best_hidden_layer_sizes = [tup == best_hidden_layer_sizes for tup in df_cv_estimator['param_mlpc__hidden_layer_sizes'].values]\n",
    "idx_best_hidden_layer_sizes = np.array(idx_best_hidden_layer_sizes)\n",
    "\n",
    "plt.title(\"CV alpha vs accuracy\")\n",
    "plt.xscale('log')\n",
    "plt.xlabel(\"alpha\")\n",
    "plt.ylabel(\"cv_accuracy\")\n",
    "_ = plt.plot( df_cv_estimator[idx_best_hidden_layer_sizes]['param_mlpc__alpha'], \n",
    "              df_cv_estimator[idx_best_hidden_layer_sizes]['mean_test_score'])\n"
   ]
  },
  {
   "cell_type": "code",
   "execution_count": 118,
   "id": "e4b40830-70dc-425f-a71f-6bf788b9e8de",
   "metadata": {
    "tags": []
   },
   "outputs": [
    {
     "name": "stderr",
     "output_type": "stream",
     "text": [
      "/home/sebastian/anaconda3/envs/sebasmos/lib/python3.10/site-packages/sklearn/neural_network/_multilayer_perceptron.py:698: UserWarning: Training interrupted by user.\n",
      "  warnings.warn(\"Training interrupted by user.\")\n",
      "/home/sebastian/anaconda3/envs/sebasmos/lib/python3.10/site-packages/sklearn/neural_network/_multilayer_perceptron.py:698: UserWarning: Training interrupted by user.\n",
      "  warnings.warn(\"Training interrupted by user.\")\n"
     ]
    },
    {
     "ename": "KeyboardInterrupt",
     "evalue": "",
     "output_type": "error",
     "traceback": [
      "\u001b[0;31m---------------------------------------------------------------------------\u001b[0m",
      "\u001b[0;31mKeyboardInterrupt\u001b[0m                         Traceback (most recent call last)",
      "Cell \u001b[0;32mIn[118], line 3\u001b[0m\n\u001b[1;32m      1\u001b[0m \u001b[38;5;28;01mfrom\u001b[39;00m \u001b[38;5;21;01msklearn\u001b[39;00m\u001b[38;5;21;01m.\u001b[39;00m\u001b[38;5;21;01mmodel_selection\u001b[39;00m \u001b[38;5;28;01mimport\u001b[39;00m cross_val_score, cross_val_predict, KFold, GridSearchCV\n\u001b[1;32m      2\u001b[0m \u001b[38;5;66;03m### CV accuracy, recall and precision of best model\u001b[39;00m\n\u001b[0;32m----> 3\u001b[0m y_pred \u001b[38;5;241m=\u001b[39m \u001b[43mcross_val_predict\u001b[49m\u001b[43m(\u001b[49m\u001b[43mmlpc_gscv\u001b[49m\u001b[38;5;241;43m.\u001b[39;49m\u001b[43mbest_estimator_\u001b[49m\u001b[43m,\u001b[49m\u001b[43m \u001b[49m\u001b[43mX_train\u001b[49m\u001b[43m,\u001b[49m\u001b[43m \u001b[49m\u001b[43my_train\u001b[49m\u001b[43m,\u001b[49m\u001b[43m \u001b[49m\u001b[43mcv\u001b[49m\u001b[38;5;241;43m=\u001b[39;49m\u001b[43mskf\u001b[49m\u001b[43m,\u001b[49m\u001b[43m \u001b[49m\u001b[43mn_jobs\u001b[49m\u001b[38;5;241;43m=\u001b[39;49m\u001b[38;5;241;43m2\u001b[39;49m\u001b[43m)\u001b[49m\n\u001b[1;32m      5\u001b[0m acc    \u001b[38;5;241m=\u001b[39m accuracy_score(y, y_pred)\n\u001b[1;32m      6\u001b[0m recall \u001b[38;5;241m=\u001b[39m recall_score(y, y_pred)\n",
      "File \u001b[0;32m~/anaconda3/envs/sebasmos/lib/python3.10/site-packages/sklearn/model_selection/_validation.py:1033\u001b[0m, in \u001b[0;36mcross_val_predict\u001b[0;34m(estimator, X, y, groups, cv, n_jobs, verbose, fit_params, pre_dispatch, method)\u001b[0m\n\u001b[1;32m   1030\u001b[0m \u001b[38;5;66;03m# We clone the estimator to make sure that all the folds are\u001b[39;00m\n\u001b[1;32m   1031\u001b[0m \u001b[38;5;66;03m# independent, and that it is pickle-able.\u001b[39;00m\n\u001b[1;32m   1032\u001b[0m parallel \u001b[38;5;241m=\u001b[39m Parallel(n_jobs\u001b[38;5;241m=\u001b[39mn_jobs, verbose\u001b[38;5;241m=\u001b[39mverbose, pre_dispatch\u001b[38;5;241m=\u001b[39mpre_dispatch)\n\u001b[0;32m-> 1033\u001b[0m predictions \u001b[38;5;241m=\u001b[39m \u001b[43mparallel\u001b[49m\u001b[43m(\u001b[49m\n\u001b[1;32m   1034\u001b[0m \u001b[43m    \u001b[49m\u001b[43mdelayed\u001b[49m\u001b[43m(\u001b[49m\u001b[43m_fit_and_predict\u001b[49m\u001b[43m)\u001b[49m\u001b[43m(\u001b[49m\n\u001b[1;32m   1035\u001b[0m \u001b[43m        \u001b[49m\u001b[43mclone\u001b[49m\u001b[43m(\u001b[49m\u001b[43mestimator\u001b[49m\u001b[43m)\u001b[49m\u001b[43m,\u001b[49m\u001b[43m \u001b[49m\u001b[43mX\u001b[49m\u001b[43m,\u001b[49m\u001b[43m \u001b[49m\u001b[43my\u001b[49m\u001b[43m,\u001b[49m\u001b[43m \u001b[49m\u001b[43mtrain\u001b[49m\u001b[43m,\u001b[49m\u001b[43m \u001b[49m\u001b[43mtest\u001b[49m\u001b[43m,\u001b[49m\u001b[43m \u001b[49m\u001b[43mverbose\u001b[49m\u001b[43m,\u001b[49m\u001b[43m \u001b[49m\u001b[43mfit_params\u001b[49m\u001b[43m,\u001b[49m\u001b[43m \u001b[49m\u001b[43mmethod\u001b[49m\n\u001b[1;32m   1036\u001b[0m \u001b[43m    \u001b[49m\u001b[43m)\u001b[49m\n\u001b[1;32m   1037\u001b[0m \u001b[43m    \u001b[49m\u001b[38;5;28;43;01mfor\u001b[39;49;00m\u001b[43m \u001b[49m\u001b[43mtrain\u001b[49m\u001b[43m,\u001b[49m\u001b[43m \u001b[49m\u001b[43mtest\u001b[49m\u001b[43m \u001b[49m\u001b[38;5;129;43;01min\u001b[39;49;00m\u001b[43m \u001b[49m\u001b[43msplits\u001b[49m\n\u001b[1;32m   1038\u001b[0m \u001b[43m\u001b[49m\u001b[43m)\u001b[49m\n\u001b[1;32m   1040\u001b[0m inv_test_indices \u001b[38;5;241m=\u001b[39m np\u001b[38;5;241m.\u001b[39mempty(\u001b[38;5;28mlen\u001b[39m(test_indices), dtype\u001b[38;5;241m=\u001b[39m\u001b[38;5;28mint\u001b[39m)\n\u001b[1;32m   1041\u001b[0m inv_test_indices[test_indices] \u001b[38;5;241m=\u001b[39m np\u001b[38;5;241m.\u001b[39marange(\u001b[38;5;28mlen\u001b[39m(test_indices))\n",
      "File \u001b[0;32m~/anaconda3/envs/sebasmos/lib/python3.10/site-packages/sklearn/utils/parallel.py:65\u001b[0m, in \u001b[0;36mParallel.__call__\u001b[0;34m(self, iterable)\u001b[0m\n\u001b[1;32m     60\u001b[0m config \u001b[38;5;241m=\u001b[39m get_config()\n\u001b[1;32m     61\u001b[0m iterable_with_config \u001b[38;5;241m=\u001b[39m (\n\u001b[1;32m     62\u001b[0m     (_with_config(delayed_func, config), args, kwargs)\n\u001b[1;32m     63\u001b[0m     \u001b[38;5;28;01mfor\u001b[39;00m delayed_func, args, kwargs \u001b[38;5;129;01min\u001b[39;00m iterable\n\u001b[1;32m     64\u001b[0m )\n\u001b[0;32m---> 65\u001b[0m \u001b[38;5;28;01mreturn\u001b[39;00m \u001b[38;5;28;43msuper\u001b[39;49m\u001b[43m(\u001b[49m\u001b[43m)\u001b[49m\u001b[38;5;241;43m.\u001b[39;49m\u001b[38;5;21;43m__call__\u001b[39;49m\u001b[43m(\u001b[49m\u001b[43miterable_with_config\u001b[49m\u001b[43m)\u001b[49m\n",
      "File \u001b[0;32m~/anaconda3/envs/sebasmos/lib/python3.10/site-packages/joblib/parallel.py:1952\u001b[0m, in \u001b[0;36mParallel.__call__\u001b[0;34m(self, iterable)\u001b[0m\n\u001b[1;32m   1946\u001b[0m \u001b[38;5;66;03m# The first item from the output is blank, but it makes the interpreter\u001b[39;00m\n\u001b[1;32m   1947\u001b[0m \u001b[38;5;66;03m# progress until it enters the Try/Except block of the generator and\u001b[39;00m\n\u001b[1;32m   1948\u001b[0m \u001b[38;5;66;03m# reach the first `yield` statement. This starts the aynchronous\u001b[39;00m\n\u001b[1;32m   1949\u001b[0m \u001b[38;5;66;03m# dispatch of the tasks to the workers.\u001b[39;00m\n\u001b[1;32m   1950\u001b[0m \u001b[38;5;28mnext\u001b[39m(output)\n\u001b[0;32m-> 1952\u001b[0m \u001b[38;5;28;01mreturn\u001b[39;00m output \u001b[38;5;28;01mif\u001b[39;00m \u001b[38;5;28mself\u001b[39m\u001b[38;5;241m.\u001b[39mreturn_generator \u001b[38;5;28;01melse\u001b[39;00m \u001b[38;5;28;43mlist\u001b[39;49m\u001b[43m(\u001b[49m\u001b[43moutput\u001b[49m\u001b[43m)\u001b[49m\n",
      "File \u001b[0;32m~/anaconda3/envs/sebasmos/lib/python3.10/site-packages/joblib/parallel.py:1595\u001b[0m, in \u001b[0;36mParallel._get_outputs\u001b[0;34m(self, iterator, pre_dispatch)\u001b[0m\n\u001b[1;32m   1592\u001b[0m     \u001b[38;5;28;01myield\u001b[39;00m\n\u001b[1;32m   1594\u001b[0m     \u001b[38;5;28;01mwith\u001b[39;00m \u001b[38;5;28mself\u001b[39m\u001b[38;5;241m.\u001b[39m_backend\u001b[38;5;241m.\u001b[39mretrieval_context():\n\u001b[0;32m-> 1595\u001b[0m         \u001b[38;5;28;01myield from\u001b[39;00m \u001b[38;5;28mself\u001b[39m\u001b[38;5;241m.\u001b[39m_retrieve()\n\u001b[1;32m   1597\u001b[0m \u001b[38;5;28;01mexcept\u001b[39;00m \u001b[38;5;167;01mGeneratorExit\u001b[39;00m:\n\u001b[1;32m   1598\u001b[0m     \u001b[38;5;66;03m# The generator has been garbage collected before being fully\u001b[39;00m\n\u001b[1;32m   1599\u001b[0m     \u001b[38;5;66;03m# consumed. This aborts the remaining tasks if possible and warn\u001b[39;00m\n\u001b[1;32m   1600\u001b[0m     \u001b[38;5;66;03m# the user if necessary.\u001b[39;00m\n\u001b[1;32m   1601\u001b[0m     \u001b[38;5;28mself\u001b[39m\u001b[38;5;241m.\u001b[39m_exception \u001b[38;5;241m=\u001b[39m \u001b[38;5;28;01mTrue\u001b[39;00m\n",
      "File \u001b[0;32m~/anaconda3/envs/sebasmos/lib/python3.10/site-packages/joblib/parallel.py:1707\u001b[0m, in \u001b[0;36mParallel._retrieve\u001b[0;34m(self)\u001b[0m\n\u001b[1;32m   1702\u001b[0m \u001b[38;5;66;03m# If the next job is not ready for retrieval yet, we just wait for\u001b[39;00m\n\u001b[1;32m   1703\u001b[0m \u001b[38;5;66;03m# async callbacks to progress.\u001b[39;00m\n\u001b[1;32m   1704\u001b[0m \u001b[38;5;28;01mif\u001b[39;00m ((\u001b[38;5;28mlen\u001b[39m(\u001b[38;5;28mself\u001b[39m\u001b[38;5;241m.\u001b[39m_jobs) \u001b[38;5;241m==\u001b[39m \u001b[38;5;241m0\u001b[39m) \u001b[38;5;129;01mor\u001b[39;00m\n\u001b[1;32m   1705\u001b[0m     (\u001b[38;5;28mself\u001b[39m\u001b[38;5;241m.\u001b[39m_jobs[\u001b[38;5;241m0\u001b[39m]\u001b[38;5;241m.\u001b[39mget_status(\n\u001b[1;32m   1706\u001b[0m         timeout\u001b[38;5;241m=\u001b[39m\u001b[38;5;28mself\u001b[39m\u001b[38;5;241m.\u001b[39mtimeout) \u001b[38;5;241m==\u001b[39m TASK_PENDING)):\n\u001b[0;32m-> 1707\u001b[0m     \u001b[43mtime\u001b[49m\u001b[38;5;241;43m.\u001b[39;49m\u001b[43msleep\u001b[49m\u001b[43m(\u001b[49m\u001b[38;5;241;43m0.01\u001b[39;49m\u001b[43m)\u001b[49m\n\u001b[1;32m   1708\u001b[0m     \u001b[38;5;28;01mcontinue\u001b[39;00m\n\u001b[1;32m   1710\u001b[0m \u001b[38;5;66;03m# We need to be careful: the job list can be filling up as\u001b[39;00m\n\u001b[1;32m   1711\u001b[0m \u001b[38;5;66;03m# we empty it and Python list are not thread-safe by\u001b[39;00m\n\u001b[1;32m   1712\u001b[0m \u001b[38;5;66;03m# default hence the use of the lock\u001b[39;00m\n",
      "\u001b[0;31mKeyboardInterrupt\u001b[0m: "
     ]
    }
   ],
   "source": [
    "from sklearn.model_selection import cross_val_score, cross_val_predict, KFold, GridSearchCV\n",
    "### CV accuracy, recall and precision of best model\n",
    "y_pred = cross_val_predict(mlpc_gscv.best_estimator_, X_train, y_train, cv=skf, n_jobs=2)\n",
    "\n",
    "acc    = accuracy_score(y, y_pred)\n",
    "recall = recall_score(y, y_pred)\n",
    "prec   = precision_score(y, y_pred) \n",
    "\n",
    "print(\"acc: %.3f\\trecall: %.3f\\tprecision: %.3f\" % (acc, recall, prec))\n",
    "\n",
    "print(\"\\nconfusion matrix:\\n\", confusion_matrix(y, y_pred))"
   ]
  },
  {
   "cell_type": "markdown",
   "id": "1f61dadd-89d6-413a-a84f-33c24027a1f3",
   "metadata": {
    "jp-MarkdownHeadingCollapsed": true,
    "tags": []
   },
   "source": [
    "# Simple fit MLP"
   ]
  },
  {
   "cell_type": "code",
   "execution_count": 100,
   "id": "3e7172f6-b5f9-4b9c-a8a0-f0f52b2bd6f9",
   "metadata": {
    "tags": []
   },
   "outputs": [
    {
     "name": "stdout",
     "output_type": "stream",
     "text": [
      "Iteration 1, loss = 2.04481389\n",
      "Validation score: 0.275000\n",
      "Iteration 2, loss = 1.25054035\n",
      "Validation score: 0.312500\n",
      "Iteration 3, loss = 0.94943818\n",
      "Validation score: 0.287500\n",
      "Iteration 4, loss = 0.74884293\n",
      "Validation score: 0.290000\n",
      "Iteration 5, loss = 0.59651628\n",
      "Validation score: 0.282500\n",
      "Iteration 6, loss = 0.47327800\n",
      "Validation score: 0.292500\n",
      "Iteration 7, loss = 0.37418169\n",
      "Validation score: 0.285000\n",
      "Iteration 8, loss = 0.29352812\n",
      "Validation score: 0.285000\n",
      "Iteration 9, loss = 0.23084078\n",
      "Validation score: 0.282500\n",
      "Iteration 10, loss = 0.18386750\n",
      "Validation score: 0.292500\n",
      "Iteration 11, loss = 0.14786722\n",
      "Validation score: 0.280000\n",
      "Iteration 12, loss = 0.12080635\n",
      "Validation score: 0.280000\n",
      "Iteration 13, loss = 0.09993313\n",
      "Validation score: 0.282500\n",
      "Iteration 14, loss = 0.08379882\n",
      "Validation score: 0.287500\n",
      "Iteration 15, loss = 0.07130639\n",
      "Validation score: 0.290000\n",
      "Iteration 16, loss = 0.06136289\n",
      "Validation score: 0.295000\n",
      "Iteration 17, loss = 0.05343105\n",
      "Validation score: 0.285000\n",
      "Iteration 18, loss = 0.04686717\n",
      "Validation score: 0.290000\n",
      "Iteration 19, loss = 0.04145347\n",
      "Validation score: 0.290000\n",
      "Iteration 20, loss = 0.03697908\n",
      "Validation score: 0.297500\n",
      "Iteration 21, loss = 0.03315305\n",
      "Validation score: 0.295000\n",
      "Iteration 22, loss = 0.02993962\n",
      "Validation score: 0.295000\n",
      "Iteration 23, loss = 0.02715098\n",
      "Validation score: 0.297500\n",
      "Validation score did not improve more than tol=0.000100 for 20 consecutive epochs. Stopping.\n",
      "Training Accuracy: 0.5923885828743115\n",
      "Validation Accuracy: 0.31347517730496455\n",
      "Test Accuracy: 0.2752941176470588\n"
     ]
    }
   ],
   "source": [
    "import pandas as pd\n",
    "from sklearn.model_selection import train_test_split\n",
    "from sklearn.neural_network import MLPClassifier\n",
    "\n",
    "\n",
    "mlp_classifier = MLPClassifier(hidden_layer_sizes=(100,), activation='relu',\n",
    "                               solver='adam', alpha=0.0001, batch_size='auto',\n",
    "                               learning_rate='constant', learning_rate_init=0.001,\n",
    "                               max_iter=200, shuffle=True, random_state=42,\n",
    "                               verbose=True, early_stopping=True, validation_fraction=0.1,\n",
    "                               n_iter_no_change=20)  # Increased dropout rate\n",
    "# mlp_classifier = MLPClassifier(random_state=1, max_iter=300)\n",
    "# Train the classifier\n",
    "mlp_classifier.fit(X_train, y_train)\n",
    "\n",
    "# Evaluate the classifier\n",
    "train_accuracy = accuracy_score(y_train, mlp_classifier.predict(X_train))\n",
    "val_accuracy = accuracy_score(y_val, mlp_classifier.predict(X_val))\n",
    "test_accuracy = accuracy_score(y_test, mlp_classifier.predict(X_test))\n",
    "\n",
    "print(f\"Training Accuracy: {train_accuracy}\")\n",
    "print(f\"Validation Accuracy: {val_accuracy}\")\n",
    "print(f\"Test Accuracy: {test_accuracy}\")"
   ]
  },
  {
   "cell_type": "code",
   "execution_count": null,
   "id": "bd21c75b-0f14-41ff-8666-0a9d37ac695e",
   "metadata": {},
   "outputs": [],
   "source": [
    "# Full predictions on test data\n",
    "y_pred = mlp_classifier.predict(X_test)\n"
   ]
  },
  {
   "cell_type": "code",
   "execution_count": 98,
   "id": "2c449e72-27ae-40c8-ac06-4122fc874e58",
   "metadata": {
    "tags": []
   },
   "outputs": [
    {
     "name": "stderr",
     "output_type": "stream",
     "text": [
      "/tmp/ipykernel_3090300/298482586.py:7: UserWarning: To copy construct from a tensor, it is recommended to use sourceTensor.clone().detach() or sourceTensor.clone().detach().requires_grad_(True), rather than torch.tensor(sourceTensor).\n",
      "  X_train_tensor = torch.tensor(X_train, dtype=torch.float32).cuda()\n",
      "/tmp/ipykernel_3090300/298482586.py:9: UserWarning: To copy construct from a tensor, it is recommended to use sourceTensor.clone().detach() or sourceTensor.clone().detach().requires_grad_(True), rather than torch.tensor(sourceTensor).\n",
      "  X_val_tensor = torch.tensor(X_val, dtype=torch.float32).cuda()\n"
     ]
    },
    {
     "name": "stdout",
     "output_type": "stream",
     "text": [
      "Test Accuracy: 0.21058823529411766\n"
     ]
    }
   ],
   "source": [
    "import torch\n",
    "import torch.nn as nn\n",
    "from torch.utils.data import DataLoader, TensorDataset\n",
    "from sklearn.metrics import accuracy_score\n",
    "epochs=1000\n",
    "# Convert data to PyTorch tensors\n",
    "X_train_tensor = torch.tensor(X_train, dtype=torch.float32).cuda()\n",
    "y_train_tensor = torch.tensor(y_train, dtype=torch.long).cuda()\n",
    "X_val_tensor = torch.tensor(X_val, dtype=torch.float32).cuda()\n",
    "y_val_tensor = torch.tensor(y_val, dtype=torch.long).cuda()\n",
    "X_test_tensor = torch.tensor(X_test, dtype=torch.float32).cuda()\n",
    "\n",
    "# Create DataLoader for training and validation data\n",
    "train_dataset = TensorDataset(X_train_tensor, y_train_tensor)\n",
    "train_loader = DataLoader(train_dataset, batch_size=64, shuffle=True)\n",
    "val_dataset = TensorDataset(X_val_tensor, y_val_tensor)\n",
    "val_loader = DataLoader(val_dataset, batch_size=64)\n",
    "\n",
    "class MLP(nn.Module):\n",
    "    def __init__(self, dropout_rate=0.5):\n",
    "        super(MLP, self).__init__()\n",
    "        self.fc1 = nn.Linear(X_train.shape[1], 200)\n",
    "        self.fc2 = nn.Linear(200, 100)\n",
    "        self.fc3 = nn.Linear(100, len(np.unique(y_train)))\n",
    "        self.dropout = nn.Dropout(dropout_rate)\n",
    "\n",
    "    def forward(self, x):\n",
    "        x = F.relu(self.fc1(x))\n",
    "        x = self.dropout(x)\n",
    "        x = F.relu(self.fc2(x))\n",
    "        x = self.dropout(x)\n",
    "        x = self.fc3(x)\n",
    "        return x\n",
    "\n",
    "# Initialize MLP model and move to CUDA\n",
    "model = MLP(dropout_rate=0.5).cuda()\n",
    "\n",
    "# Define loss function and optimizer\n",
    "criterion = nn.CrossEntropyLoss()\n",
    "optimizer = torch.optim.Adam(model.parameters(), lr=0.001, weight_decay=0.001)  # Adding L2 regularization\n",
    "\n",
    "# Training loop with early stopping\n",
    "best_val_accuracy = 0.0\n",
    "best_model_state_dict = None\n",
    "patience = 10\n",
    "for epoch in range(epochs):\n",
    "    model.train()\n",
    "    for inputs, labels in train_loader:\n",
    "        optimizer.zero_grad()\n",
    "        outputs = model(inputs)\n",
    "        loss = criterion(outputs, labels)\n",
    "        loss.backward()\n",
    "        optimizer.step()\n",
    "\n",
    "    # Evaluate on validation set\n",
    "    model.eval()\n",
    "    with torch.no_grad():\n",
    "        val_accuracy = 0.0\n",
    "        for inputs, labels in val_loader:\n",
    "            outputs = model(inputs)\n",
    "            val_accuracy += accuracy_score(labels.cpu(), torch.argmax(outputs, dim=1).cpu().numpy())\n",
    "        val_accuracy /= len(val_loader)\n",
    "        \n",
    "        if val_accuracy > best_val_accuracy:\n",
    "            best_val_accuracy = val_accuracy\n",
    "            best_model_state_dict = model.state_dict()\n",
    "            patience = 10  # Reset patience if a new best validation accuracy is achieved\n",
    "        else:\n",
    "            patience -= 1\n",
    "            if patience == 0:\n",
    "                break\n",
    "\n",
    "# Load the best model state dict\n",
    "if best_model_state_dict is not None:\n",
    "    model.load_state_dict(best_model_state_dict)\n",
    "\n",
    "# Evaluate the best model on test set\n",
    "model.eval()\n",
    "with torch.no_grad():\n",
    "    y_test_pred = torch.argmax(model(X_test_tensor), dim=1).cpu().numpy()\n",
    "\n",
    "test_accuracy = accuracy_score(y_test, y_test_pred)\n",
    "print(f\"Test Accuracy: {test_accuracy}\")"
   ]
  },
  {
   "cell_type": "markdown",
   "id": "767bb00c-ab79-4174-9a6f-6939298813c3",
   "metadata": {
    "jp-MarkdownHeadingCollapsed": true,
    "tags": []
   },
   "source": [
    "# old method.."
   ]
  },
  {
   "cell_type": "code",
   "execution_count": 67,
   "id": "e04f7c02-d65c-4a5f-88a3-1a1433f97200",
   "metadata": {
    "tags": []
   },
   "outputs": [],
   "source": [
    "output_size = 5  # Example output size\n",
    "hidden_images = [64]  # Example hidden layer sizes"
   ]
  },
  {
   "cell_type": "code",
   "execution_count": 80,
   "id": "35a21ab2-1a23-4181-a9bc-1530532fe1c6",
   "metadata": {
    "tags": []
   },
   "outputs": [
    {
     "name": "stdout",
     "output_type": "stream",
     "text": [
      "Output shape: torch.Size([4699, 5])\n"
     ]
    },
    {
     "data": {
      "text/plain": [
       "SimpleClassifier(\n",
       "  (fc_layers): Sequential(\n",
       "    (0): Linear(in_features=960, out_features=64, bias=True)\n",
       "    (1): ReLU()\n",
       "    (2): Dropout(p=0.2, inplace=False)\n",
       "  )\n",
       "  (output_layer): Linear(in_features=64, out_features=5, bias=True)\n",
       ")"
      ]
     },
     "execution_count": 80,
     "metadata": {},
     "output_type": "execute_result"
    }
   ],
   "source": [
    "import torch\n",
    "import torch.nn as nn\n",
    "\n",
    "class SimpleClassifier(nn.Module):\n",
    "    def __init__(self, input_size, output_size, hidden_sizes=[64], dropout_prob=0.2):\n",
    "        super(SimpleClassifier, self).__init__()\n",
    "        \n",
    "        self.fc_layers = self._create_fc_layers(input_size, hidden_sizes, dropout_prob)\n",
    "        self.output_layer = nn.Linear(hidden_sizes[-1], output_size)\n",
    "    \n",
    "    def _create_fc_layers(self, input_size, hidden_sizes, dropout_prob):\n",
    "        layers = []\n",
    "        prev_size = input_size\n",
    "        for hidden_size in hidden_sizes:\n",
    "            layers.append(nn.Linear(prev_size, hidden_size))\n",
    "            layers.append(nn.ReLU())\n",
    "            layers.append(nn.Dropout(p=dropout_prob))\n",
    "            prev_size = hidden_size\n",
    "        return nn.Sequential(*layers)\n",
    "    \n",
    "    def forward(self, x):\n",
    "        x = self.fc_layers(x)\n",
    "        x = self.output_layer(x)\n",
    "        return x\n",
    "\n",
    "\n",
    "X_train_shape = X_train.shape\n",
    "input_size = X_train_shape[1]  # Input size based on the feature dimension\n",
    "output_size = 5  # Example output size\n",
    "hidden_sizes = [64]  # Example hidden layer sizes\n",
    "\n",
    "# Instantiate the model\n",
    "classifier_model = SimpleClassifier(input_size, output_size, hidden_sizes)\n",
    "\n",
    "\n",
    "# Forward pass\n",
    "output = classifier_model(X_train_tensor)\n",
    "print(\"Output shape:\", output.shape)  # Should be (7680, 5)\n",
    "classifier_model"
   ]
  },
  {
   "cell_type": "code",
   "execution_count": 81,
   "id": "c402ed91-d9dc-4597-9050-1fd17575963a",
   "metadata": {
    "tags": []
   },
   "outputs": [
    {
     "name": "stderr",
     "output_type": "stream",
     "text": [
      "/tmp/ipykernel_3090300/1161299652.py:1: UserWarning: To copy construct from a tensor, it is recommended to use sourceTensor.clone().detach() or sourceTensor.clone().detach().requires_grad_(True), rather than torch.tensor(sourceTensor).\n",
      "  X_train_tensor = torch.tensor(X_train, dtype=torch.float32)\n"
     ]
    },
    {
     "data": {
      "text/plain": [
       "tensor([0.8273, 0.5031, 0.8942, 4.8948, 2.0792])"
      ]
     },
     "execution_count": 81,
     "metadata": {},
     "output_type": "execute_result"
    }
   ],
   "source": [
    "\n",
    "X_train_tensor = torch.tensor(X_train, dtype=torch.float32)\n",
    "y_train_tensor = torch.tensor(y_train, dtype=torch.long)\n",
    "\n",
    "\n",
    "y_train_np = y_train.astype(int)\n",
    "\n",
    "# Count occurrences of each class label\n",
    "class_counts = np.bincount(y_train_np, minlength=5)\n",
    "\n",
    "# Calculate class weights\n",
    "total_samples = len(y_train_np)\n",
    "num_classes = 5\n",
    "class_weights = total_samples / (num_classes * class_counts)\n",
    "class_weights = torch.tensor(class_weights, dtype=torch.float32)\n",
    "class_weights\n"
   ]
  },
  {
   "cell_type": "code",
   "execution_count": 82,
   "id": "550adb6e-e737-4d1c-ab80-a860a4f2a32b",
   "metadata": {
    "tags": []
   },
   "outputs": [],
   "source": [
    "# Move data and model to CUDA if available\n",
    "device = torch.device(\"cuda\" if torch.cuda.is_available() else \"cpu\")\n",
    "X_train_tensor = X_train_tensor.to(device)\n",
    "y_train_tensor = y_train_tensor.to(device)\n",
    "class_weights = class_weights.to(device)\n",
    "classifier_model = SimpleClassifier(input_size, output_size, hidden_sizes)\n",
    "classifier_model = classifier_model.to(device)"
   ]
  },
  {
   "cell_type": "code",
   "execution_count": 83,
   "id": "53695e86-1096-442a-96de-8621d02fc055",
   "metadata": {
    "tags": []
   },
   "outputs": [
    {
     "name": "stderr",
     "output_type": "stream",
     "text": [
      "/home/sebastian/anaconda3/envs/sebasmos/lib/python3.10/site-packages/sklearn/metrics/_classification.py:1471: UndefinedMetricWarning: Precision is ill-defined and being set to 0.0 in labels with no predicted samples. Use `zero_division` parameter to control this behavior.\n",
      "  _warn_prf(average, modifier, msg_start, len(result))\n"
     ]
    },
    {
     "name": "stdout",
     "output_type": "stream",
     "text": [
      "Epoch [1/10], Train Loss: 1.4812, Val Loss: 1.4227, F1 Score: 0.2773, Precision: 0.2491, Accuracy: 0.3952\n"
     ]
    },
    {
     "name": "stderr",
     "output_type": "stream",
     "text": [
      "/home/sebastian/anaconda3/envs/sebasmos/lib/python3.10/site-packages/sklearn/metrics/_classification.py:1471: UndefinedMetricWarning: Precision is ill-defined and being set to 0.0 in labels with no predicted samples. Use `zero_division` parameter to control this behavior.\n",
      "  _warn_prf(average, modifier, msg_start, len(result))\n"
     ]
    },
    {
     "name": "stdout",
     "output_type": "stream",
     "text": [
      "Epoch [2/10], Train Loss: 1.2253, Val Loss: 1.4628, F1 Score: 0.2994, Precision: 0.2725, Accuracy: 0.3530\n"
     ]
    },
    {
     "name": "stderr",
     "output_type": "stream",
     "text": [
      "/home/sebastian/anaconda3/envs/sebasmos/lib/python3.10/site-packages/sklearn/metrics/_classification.py:1471: UndefinedMetricWarning: Precision is ill-defined and being set to 0.0 in labels with no predicted samples. Use `zero_division` parameter to control this behavior.\n",
      "  _warn_prf(average, modifier, msg_start, len(result))\n"
     ]
    },
    {
     "name": "stdout",
     "output_type": "stream",
     "text": [
      "Epoch [3/10], Train Loss: 1.0483, Val Loss: 1.5457, F1 Score: 0.2989, Precision: 0.2832, Accuracy: 0.3325\n"
     ]
    },
    {
     "name": "stderr",
     "output_type": "stream",
     "text": [
      "/home/sebastian/anaconda3/envs/sebasmos/lib/python3.10/site-packages/sklearn/metrics/_classification.py:1471: UndefinedMetricWarning: Precision is ill-defined and being set to 0.0 in labels with no predicted samples. Use `zero_division` parameter to control this behavior.\n",
      "  _warn_prf(average, modifier, msg_start, len(result))\n"
     ]
    },
    {
     "name": "stdout",
     "output_type": "stream",
     "text": [
      "Epoch [4/10], Train Loss: 0.8682, Val Loss: 1.6647, F1 Score: 0.2961, Precision: 0.2849, Accuracy: 0.3193\n"
     ]
    },
    {
     "name": "stderr",
     "output_type": "stream",
     "text": [
      "/home/sebastian/anaconda3/envs/sebasmos/lib/python3.10/site-packages/sklearn/metrics/_classification.py:1471: UndefinedMetricWarning: Precision is ill-defined and being set to 0.0 in labels with no predicted samples. Use `zero_division` parameter to control this behavior.\n",
      "  _warn_prf(average, modifier, msg_start, len(result))\n"
     ]
    },
    {
     "name": "stdout",
     "output_type": "stream",
     "text": [
      "Epoch [5/10], Train Loss: 0.7026, Val Loss: 1.7979, F1 Score: 0.2957, Precision: 0.2841, Accuracy: 0.3169\n",
      "Epoch [6/10], Train Loss: 0.5457, Val Loss: 1.9453, F1 Score: 0.2933, Precision: 0.2831, Accuracy: 0.3084\n",
      "Epoch [7/10], Train Loss: 0.4134, Val Loss: 2.0546, F1 Score: 0.3007, Precision: 0.2914, Accuracy: 0.3157\n",
      "Epoch [8/10], Train Loss: 0.3291, Val Loss: 2.1936, F1 Score: 0.2960, Precision: 0.2884, Accuracy: 0.3108\n",
      "Epoch [9/10], Train Loss: 0.2572, Val Loss: 2.3038, F1 Score: 0.3096, Precision: 0.3037, Accuracy: 0.3205\n",
      "Epoch [10/10], Train Loss: 0.2096, Val Loss: 2.4165, F1 Score: 0.3054, Precision: 0.2997, Accuracy: 0.3157\n"
     ]
    },
    {
     "data": {
      "image/png": "[encoded data removed]",
      "text/plain": [
       "<Figure size 640x480 with 1 Axes>"
      ]
     },
     "metadata": {},
     "output_type": "display_data"
    },
    {
     "data": {
      "image/png": "[encoded data removed]",
      "text/plain": [
       "<Figure size 640x480 with 1 Axes>"
      ]
     },
     "metadata": {},
     "output_type": "display_data"
    }
   ],
   "source": [
    "import torch\n",
    "import torch.nn as nn\n",
    "import torch.optim as optim\n",
    "from torch.utils.data import DataLoader, TensorDataset\n",
    "from sklearn.metrics import f1_score, precision_score, accuracy_score, recall_score, fbeta_score\n",
    "import matplotlib.pyplot as plt\n",
    "from sklearn.preprocessing import StandardScaler\n",
    "from sklearn.model_selection import train_test_split\n",
    "\n",
    "# Define your SimpleClassifier class here (same as before)\n",
    "\n",
    "# Assuming you have X_train and y_train as your training data\n",
    "# Preprocess the data (scaling)\n",
    "scaler = StandardScaler()\n",
    "X_train_scaled = scaler.fit_transform(X_train)\n",
    "X_val_scaled = scaler.transform(X_val)\n",
    "\n",
    "# Convert them to PyTorch tensors\n",
    "X_train_tensor = torch.tensor(X_train_scaled, dtype=torch.float32)\n",
    "y_train_tensor = torch.tensor(y_train, dtype=torch.long)\n",
    "X_val_tensor = torch.tensor(X_val_scaled, dtype=torch.float32)\n",
    "y_val_tensor = torch.tensor(y_val, dtype=torch.long)\n",
    "\n",
    "# Define batch size and create DataLoader\n",
    "batch_size = 64\n",
    "train_dataset = TensorDataset(X_train_tensor, y_train_tensor)\n",
    "train_loader = DataLoader(train_dataset, batch_size=batch_size, shuffle=True)\n",
    "\n",
    "# Instantiate the model\n",
    "classifier_model = SimpleClassifier(input_size=X_train.shape[1], output_size=output_size, hidden_sizes=hidden_sizes)\n",
    "classifier_model = classifier_model.to(device)\n",
    "\n",
    "# Define loss function\n",
    "criterion = nn.CrossEntropyLoss()\n",
    "\n",
    "# Define optimizer\n",
    "optimizer = optim.Adam(classifier_model.parameters(), lr=0.001)\n",
    "\n",
    "# Lists to store metrics for plotting\n",
    "train_loss_history = []\n",
    "val_loss_history = []\n",
    "f1_score_history = []\n",
    "precision_history = []\n",
    "accuracy_history = []\n",
    "# Initialize patience counter\n",
    "patience = 50  # Adjust this value as needed\n",
    "\n",
    "# Initialize variable to track epochs since last improvement\n",
    "epochs_since_last_improvement = 0\n",
    "# Training loop\n",
    "num_epochs = 10\n",
    "best_val_loss = float('inf')\n",
    "for epoch in range(num_epochs):\n",
    "    classifier_model.train()  # Set the model to training mode\n",
    "    total_train_loss = 0.0\n",
    "    for inputs, labels in train_loader:\n",
    "        inputs, labels = inputs.to(device), labels.to(device)\n",
    "        optimizer.zero_grad()  # Zero the gradients\n",
    "        outputs = classifier_model(inputs)  # Forward pass\n",
    "        loss = criterion(outputs, labels)  # Calculate the loss\n",
    "        total_train_loss += loss.item() * inputs.size(0)\n",
    "        loss.backward()  # Backward pass\n",
    "        optimizer.step()  # Update weights\n",
    "\n",
    "    # Calculate average training loss for the epoch\n",
    "    average_train_loss = total_train_loss / len(train_loader.dataset)\n",
    "    train_loss_history.append(average_train_loss)\n",
    "\n",
    "    # Evaluate on validation set\n",
    "    classifier_model.eval()  # Set the model to evaluation mode\n",
    "    with torch.no_grad():\n",
    "        val_outputs = classifier_model(X_val_tensor.to(device))\n",
    "        val_loss = criterion(val_outputs, y_val_tensor.to(device))\n",
    "        val_loss_history.append(val_loss.item())\n",
    "\n",
    "        # Get predictions for validation data\n",
    "        val_predictions = val_outputs.argmax(dim=1)\n",
    "        y_val_np = y_val_tensor.cpu().numpy()\n",
    "        val_predictions_np = val_predictions.cpu().numpy()\n",
    "\n",
    "        # Calculate evaluation metrics\n",
    "        f1 = f1_score(y_val_np, val_predictions_np, average='weighted')\n",
    "        precision = precision_score(y_val_np, val_predictions_np, average='weighted')\n",
    "        accuracy = accuracy_score(y_val_np, val_predictions_np)\n",
    "        f1_score_history.append(f1)\n",
    "        precision_history.append(precision)\n",
    "        accuracy_history.append(accuracy)\n",
    "\n",
    "    # Print average loss and evaluation metrics for the epoch\n",
    "    print(f\"Epoch [{epoch+1}/{num_epochs}], Train Loss: {average_train_loss:.4f}, \"\n",
    "          f\"Val Loss: {val_loss.item():.4f}, F1 Score: {f1:.4f}, Precision: {precision:.4f}, \"\n",
    "          f\"Accuracy: {accuracy:.4f}\")\n",
    "\n",
    "    # Check for early stopping\n",
    "    if val_loss.item() < best_val_loss:\n",
    "        best_val_loss = val_loss.item()\n",
    "        epochs_since_last_improvement = 0  # Reset counter\n",
    "    else:\n",
    "        epochs_since_last_improvement += 1\n",
    "        if epochs_since_last_improvement >= patience:\n",
    "            print(\"Early stopping at epoch:\", epoch)\n",
    "            break\n",
    "# Plot training and validation loss\n",
    "plt.plot(train_loss_history, label='Training Loss')\n",
    "plt.plot(val_loss_history, label='Validation Loss')\n",
    "plt.xlabel('Epoch')\n",
    "plt.ylabel('Loss')\n",
    "plt.title('Training and Validation Loss')\n",
    "plt.legend()\n",
    "plt.show()\n",
    "\n",
    "# Plot evaluation metrics\n",
    "plt.plot(f1_score_history, label='F1 Score')\n",
    "plt.plot(precision_history, label='Precision')\n",
    "plt.plot(accuracy_history, label='Accuracy')\n",
    "plt.xlabel('Epoch')\n",
    "plt.ylabel('Score')\n",
    "plt.title('Evaluation Metrics')\n",
    "plt.legend()\n",
    "plt.show()"
   ]
  }
 ],
 "metadata": {
  "kernelspec": {
   "display_name": "sebasmos",
   "language": "python",
   "name": "sebasmos"
  },
  "language_info": {
   "codemirror_mode": {
    "name": "ipython",
    "version": 3
   },
   "file_extension": ".py",
   "mimetype": "text/x-python",
   "name": "python",
   "nbconvert_exporter": "python",
   "pygments_lexer": "ipython3",
   "version": "3.10.0"
  }
 },
 "nbformat": 4,
 "nbformat_minor": 5
}
